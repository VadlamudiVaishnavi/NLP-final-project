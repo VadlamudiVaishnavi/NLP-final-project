{
 "cells": [
  {
   "cell_type": "code",
   "execution_count": 2,
   "id": "c0b7eb7a",
   "metadata": {},
   "outputs": [],
   "source": [
    "import rasa\n",
    "import os\n",
    "from rasa.cli.scaffold import create_initial_project\n",
    "from rasa import train"
   ]
  },
  {
   "cell_type": "code",
   "execution_count": 3,
   "id": "4dd85519",
   "metadata": {},
   "outputs": [],
   "source": [
    "config_path = 'rasa/config.yml'\n",
    "domain_path = 'rasa/domain.yml'\n",
    "training_files_path = 'rasa/data'"
   ]
  },
  {
   "cell_type": "code",
   "execution_count": 5,
   "id": "2e9ff439",
   "metadata": {},
   "outputs": [
    {
     "name": "stderr",
     "output_type": "stream",
     "text": [
      "\u001b[93m/projectnb/cs505ws/students/saisurya/newenv/lib/python3.10/site-packages/rasa/shared/utils/io.py:99: UserWarning: Training data file /projectnb/cs505ws/students/saisurya/NLP/rasa/domain.yml has a lower format version than your Rasa Open Source installation: 2.0 < 3.1. Rasa Open Source will read the file as a version 3.1 file. Please update your version key to 3.1. See https://rasa.com/docs/rasa/training-data-format.\n",
      "\u001b[0m\u001b[93m/projectnb/cs505ws/students/saisurya/newenv/lib/python3.10/site-packages/rasa/shared/utils/io.py:99: UserWarning: Training data file /projectnb/cs505ws/students/saisurya/NLP/rasa/data/stories.yml has a lower format version than your Rasa Open Source installation: 2.0 < 3.1. Rasa Open Source will read the file as a version 3.1 file. Please update your version key to 3.1. See https://rasa.com/docs/rasa/training-data-format.\n",
      "\u001b[0m\u001b[93m/projectnb/cs505ws/students/saisurya/newenv/lib/python3.10/site-packages/rasa/shared/utils/io.py:99: UserWarning: Training data file /projectnb/cs505ws/students/saisurya/NLP/rasa/data/nlu.yml has a lower format version than your Rasa Open Source installation: 2.0 < 3.1. Rasa Open Source will read the file as a version 3.1 file. Please update your version key to 3.1. See https://rasa.com/docs/rasa/training-data-format.\n",
      "\u001b[0m\u001b[93m/projectnb/cs505ws/students/saisurya/newenv/lib/python3.10/site-packages/rasa/engine/recipes/recipe.py:35: FutureWarning: From Rasa Open Source 4.0.0 onwards it will be required to specify a recipe in your model configuration. Defaulting to recipe 'default.v1'.\n",
      "  rasa.shared.utils.io.raise_deprecation_warning(\n",
      "\u001b[0m\u001b[93m/projectnb/cs505ws/students/saisurya/newenv/lib/python3.10/site-packages/rasa/shared/utils/io.py:99: UserWarning: Found a rule-based policy in your configuration but no rule-based training data. Please add rule-based stories to your training data or remove the rule-based policy (`RulePolicy`) from your your configuration.\n",
      "  More info at https://rasa.com/docs/rasa/rules\n",
      "\u001b[0m"
     ]
    },
    {
     "name": "stdout",
     "output_type": "stream",
     "text": [
      "\u001b[92mYour Rasa model is trained and saved at 'rasa/20231221-195102-formal-play.tar.gz'.\u001b[0m\n"
     ]
    },
    {
     "name": "stderr",
     "output_type": "stream",
     "text": [
      "<frozen importlib._bootstrap>:283: DeprecationWarning: the load_module() method is deprecated and slated for removal in Python 3.12; use exec_module() instead\n"
     ]
    }
   ],
   "source": [
    "model_path = train(domain=domain_path,\n",
    "                         config=config_path,\n",
    "                         training_files=training_files_path,\n",
    "                         output='rasa/')\n"
   ]
  }
 ],
 "metadata": {
  "kernelspec": {
   "display_name": "newenv",
   "language": "python",
   "name": "newenv"
  },
  "language_info": {
   "codemirror_mode": {
    "name": "ipython",
    "version": 3
   },
   "file_extension": ".py",
   "mimetype": "text/x-python",
   "name": "python",
   "nbconvert_exporter": "python",
   "pygments_lexer": "ipython3",
   "version": "3.10.5"
  }
 },
 "nbformat": 4,
 "nbformat_minor": 5
}
